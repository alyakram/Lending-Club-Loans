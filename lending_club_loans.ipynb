{
 "cells": [
  {
   "cell_type": "markdown",
   "id": "98e51a4f",
   "metadata": {},
   "source": [
    "# Lending Club Loans"
   ]
  },
  {
   "cell_type": "markdown",
   "id": "dd77e3e9",
   "metadata": {},
   "source": [
    "## Brief Introduction\n",
    "LendingClub is a US peer-to-peer lending company, headquartered in San Francisco, California.[3] It was the first peer-to-peer lender to register its offerings as securities with the Securities and Exchange Commission (SEC), and to offer loan trading on a secondary market. LendingClub is the world's largest peer-to-peer lending platform."
   ]
  },
  {
   "cell_type": "markdown",
   "id": "dad0c2b8",
   "metadata": {},
   "source": [
    "## Objective\n",
    "Building a model that predicts whether the borrower can payback the loan or not, so in the future we can assess the customer and whether or not he's likely to payback his loan."
   ]
  },
  {
   "cell_type": "markdown",
   "id": "b5531f93",
   "metadata": {},
   "source": [
    "## Main Strategy\n",
    "Our main objective is not lending a person that is not going to payback his loan which would be a Type 1 error, Therefore we must depend on the recall score of the loans not payed category by doing methods that might reduce our accuracy but ultimately increasing our recall. "
   ]
  },
  {
   "cell_type": "markdown",
   "id": "2f898e21",
   "metadata": {},
   "source": [
    "### Importing the necessary libraries"
   ]
  },
  {
   "cell_type": "code",
   "execution_count": 1,
   "id": "ca390078",
   "metadata": {},
   "outputs": [],
   "source": [
    "import pandas as pd\n",
    "import numpy as np\n",
    "import matplotlib.pyplot as plt\n",
    "import seaborn as sns\n",
    "from sklearn.utils import resample\n",
    "from sklearn.ensemble import RandomForestRegressor\n",
    "from sklearn.model_selection import train_test_split\n",
    "from sklearn.preprocessing import StandardScaler\n",
    "import tensorflow as tf\n",
    "from tensorflow.keras.models import Sequential\n",
    "from tensorflow.keras.layers import Dense, Activation,Dropout\n",
    "from tensorflow.keras.constraints import max_norm\n",
    "from tensorflow.keras.models import load_model\n",
    "from sklearn.metrics import classification_report"
   ]
  },
  {
   "cell_type": "markdown",
   "id": "6df75a5d",
   "metadata": {},
   "source": [
    "### Loading the info file that describes our columns"
   ]
  },
  {
   "cell_type": "code",
   "execution_count": 2,
   "id": "1235b8f6",
   "metadata": {},
   "outputs": [],
   "source": [
    "data_info = pd.read_csv('../DATA/lending_club_info.csv',index_col='LoanStatNew')"
   ]
  },
  {
   "cell_type": "markdown",
   "id": "f3e8acd5",
   "metadata": {},
   "source": [
    "### Creating a function that describes each column"
   ]
  },
  {
   "cell_type": "code",
   "execution_count": 3,
   "id": "eb9e22cf",
   "metadata": {},
   "outputs": [],
   "source": [
    "def feat_info(col_name):\n",
    "    print(data_info.loc[col_name]['Description'])"
   ]
  },
  {
   "cell_type": "code",
   "execution_count": 4,
   "id": "0403cfa9",
   "metadata": {
    "scrolled": true
   },
   "outputs": [
    {
     "name": "stdout",
     "output_type": "stream",
     "text": [
      "Number of mortgage accounts.\n"
     ]
    }
   ],
   "source": [
    "feat_info('mort_acc')"
   ]
  },
  {
   "cell_type": "markdown",
   "id": "d5577b9d",
   "metadata": {},
   "source": [
    "### Loading the main data set"
   ]
  },
  {
   "cell_type": "code",
   "execution_count": 5,
   "id": "f8e13d74",
   "metadata": {},
   "outputs": [],
   "source": [
    "df = pd.read_csv('../DATA/lending_club_loan_two.csv')"
   ]
  },
  {
   "cell_type": "markdown",
   "id": "95c899b1",
   "metadata": {},
   "source": [
    "## Exploratory Data Analysis"
   ]
  },
  {
   "cell_type": "code",
   "execution_count": 6,
   "id": "59eac6f7",
   "metadata": {},
   "outputs": [
    {
     "data": {
      "text/html": [
       "<div>\n",
       "<style scoped>\n",
       "    .dataframe tbody tr th:only-of-type {\n",
       "        vertical-align: middle;\n",
       "    }\n",
       "\n",
       "    .dataframe tbody tr th {\n",
       "        vertical-align: top;\n",
       "    }\n",
       "\n",
       "    .dataframe thead th {\n",
       "        text-align: right;\n",
       "    }\n",
       "</style>\n",
       "<table border=\"1\" class=\"dataframe\">\n",
       "  <thead>\n",
       "    <tr style=\"text-align: right;\">\n",
       "      <th></th>\n",
       "      <th>loan_amnt</th>\n",
       "      <th>term</th>\n",
       "      <th>int_rate</th>\n",
       "      <th>installment</th>\n",
       "      <th>grade</th>\n",
       "      <th>sub_grade</th>\n",
       "      <th>emp_title</th>\n",
       "      <th>emp_length</th>\n",
       "      <th>home_ownership</th>\n",
       "      <th>annual_inc</th>\n",
       "      <th>...</th>\n",
       "      <th>open_acc</th>\n",
       "      <th>pub_rec</th>\n",
       "      <th>revol_bal</th>\n",
       "      <th>revol_util</th>\n",
       "      <th>total_acc</th>\n",
       "      <th>initial_list_status</th>\n",
       "      <th>application_type</th>\n",
       "      <th>mort_acc</th>\n",
       "      <th>pub_rec_bankruptcies</th>\n",
       "      <th>address</th>\n",
       "    </tr>\n",
       "  </thead>\n",
       "  <tbody>\n",
       "    <tr>\n",
       "      <th>0</th>\n",
       "      <td>10000.0</td>\n",
       "      <td>36 months</td>\n",
       "      <td>11.44</td>\n",
       "      <td>329.48</td>\n",
       "      <td>B</td>\n",
       "      <td>B4</td>\n",
       "      <td>Marketing</td>\n",
       "      <td>10+ years</td>\n",
       "      <td>RENT</td>\n",
       "      <td>117000.0</td>\n",
       "      <td>...</td>\n",
       "      <td>16.0</td>\n",
       "      <td>0.0</td>\n",
       "      <td>36369.0</td>\n",
       "      <td>41.8</td>\n",
       "      <td>25.0</td>\n",
       "      <td>w</td>\n",
       "      <td>INDIVIDUAL</td>\n",
       "      <td>0.0</td>\n",
       "      <td>0.0</td>\n",
       "      <td>0174 Michelle Gateway\\r\\nMendozaberg, OK 22690</td>\n",
       "    </tr>\n",
       "    <tr>\n",
       "      <th>1</th>\n",
       "      <td>8000.0</td>\n",
       "      <td>36 months</td>\n",
       "      <td>11.99</td>\n",
       "      <td>265.68</td>\n",
       "      <td>B</td>\n",
       "      <td>B5</td>\n",
       "      <td>Credit analyst</td>\n",
       "      <td>4 years</td>\n",
       "      <td>MORTGAGE</td>\n",
       "      <td>65000.0</td>\n",
       "      <td>...</td>\n",
       "      <td>17.0</td>\n",
       "      <td>0.0</td>\n",
       "      <td>20131.0</td>\n",
       "      <td>53.3</td>\n",
       "      <td>27.0</td>\n",
       "      <td>f</td>\n",
       "      <td>INDIVIDUAL</td>\n",
       "      <td>3.0</td>\n",
       "      <td>0.0</td>\n",
       "      <td>1076 Carney Fort Apt. 347\\r\\nLoganmouth, SD 05113</td>\n",
       "    </tr>\n",
       "    <tr>\n",
       "      <th>2</th>\n",
       "      <td>15600.0</td>\n",
       "      <td>36 months</td>\n",
       "      <td>10.49</td>\n",
       "      <td>506.97</td>\n",
       "      <td>B</td>\n",
       "      <td>B3</td>\n",
       "      <td>Statistician</td>\n",
       "      <td>&lt; 1 year</td>\n",
       "      <td>RENT</td>\n",
       "      <td>43057.0</td>\n",
       "      <td>...</td>\n",
       "      <td>13.0</td>\n",
       "      <td>0.0</td>\n",
       "      <td>11987.0</td>\n",
       "      <td>92.2</td>\n",
       "      <td>26.0</td>\n",
       "      <td>f</td>\n",
       "      <td>INDIVIDUAL</td>\n",
       "      <td>0.0</td>\n",
       "      <td>0.0</td>\n",
       "      <td>87025 Mark Dale Apt. 269\\r\\nNew Sabrina, WV 05113</td>\n",
       "    </tr>\n",
       "    <tr>\n",
       "      <th>3</th>\n",
       "      <td>7200.0</td>\n",
       "      <td>36 months</td>\n",
       "      <td>6.49</td>\n",
       "      <td>220.65</td>\n",
       "      <td>A</td>\n",
       "      <td>A2</td>\n",
       "      <td>Client Advocate</td>\n",
       "      <td>6 years</td>\n",
       "      <td>RENT</td>\n",
       "      <td>54000.0</td>\n",
       "      <td>...</td>\n",
       "      <td>6.0</td>\n",
       "      <td>0.0</td>\n",
       "      <td>5472.0</td>\n",
       "      <td>21.5</td>\n",
       "      <td>13.0</td>\n",
       "      <td>f</td>\n",
       "      <td>INDIVIDUAL</td>\n",
       "      <td>0.0</td>\n",
       "      <td>0.0</td>\n",
       "      <td>823 Reid Ford\\r\\nDelacruzside, MA 00813</td>\n",
       "    </tr>\n",
       "    <tr>\n",
       "      <th>4</th>\n",
       "      <td>24375.0</td>\n",
       "      <td>60 months</td>\n",
       "      <td>17.27</td>\n",
       "      <td>609.33</td>\n",
       "      <td>C</td>\n",
       "      <td>C5</td>\n",
       "      <td>Destiny Management Inc.</td>\n",
       "      <td>9 years</td>\n",
       "      <td>MORTGAGE</td>\n",
       "      <td>55000.0</td>\n",
       "      <td>...</td>\n",
       "      <td>13.0</td>\n",
       "      <td>0.0</td>\n",
       "      <td>24584.0</td>\n",
       "      <td>69.8</td>\n",
       "      <td>43.0</td>\n",
       "      <td>f</td>\n",
       "      <td>INDIVIDUAL</td>\n",
       "      <td>1.0</td>\n",
       "      <td>0.0</td>\n",
       "      <td>679 Luna Roads\\r\\nGreggshire, VA 11650</td>\n",
       "    </tr>\n",
       "  </tbody>\n",
       "</table>\n",
       "<p>5 rows × 27 columns</p>\n",
       "</div>"
      ],
      "text/plain": [
       "   loan_amnt        term  int_rate  installment grade sub_grade  \\\n",
       "0    10000.0   36 months     11.44       329.48     B        B4   \n",
       "1     8000.0   36 months     11.99       265.68     B        B5   \n",
       "2    15600.0   36 months     10.49       506.97     B        B3   \n",
       "3     7200.0   36 months      6.49       220.65     A        A2   \n",
       "4    24375.0   60 months     17.27       609.33     C        C5   \n",
       "\n",
       "                 emp_title emp_length home_ownership  annual_inc  ...  \\\n",
       "0                Marketing  10+ years           RENT    117000.0  ...   \n",
       "1          Credit analyst     4 years       MORTGAGE     65000.0  ...   \n",
       "2             Statistician   < 1 year           RENT     43057.0  ...   \n",
       "3          Client Advocate    6 years           RENT     54000.0  ...   \n",
       "4  Destiny Management Inc.    9 years       MORTGAGE     55000.0  ...   \n",
       "\n",
       "  open_acc pub_rec revol_bal revol_util total_acc  initial_list_status  \\\n",
       "0     16.0     0.0   36369.0       41.8      25.0                    w   \n",
       "1     17.0     0.0   20131.0       53.3      27.0                    f   \n",
       "2     13.0     0.0   11987.0       92.2      26.0                    f   \n",
       "3      6.0     0.0    5472.0       21.5      13.0                    f   \n",
       "4     13.0     0.0   24584.0       69.8      43.0                    f   \n",
       "\n",
       "  application_type  mort_acc  pub_rec_bankruptcies  \\\n",
       "0       INDIVIDUAL       0.0                   0.0   \n",
       "1       INDIVIDUAL       3.0                   0.0   \n",
       "2       INDIVIDUAL       0.0                   0.0   \n",
       "3       INDIVIDUAL       0.0                   0.0   \n",
       "4       INDIVIDUAL       1.0                   0.0   \n",
       "\n",
       "                                             address  \n",
       "0     0174 Michelle Gateway\\r\\nMendozaberg, OK 22690  \n",
       "1  1076 Carney Fort Apt. 347\\r\\nLoganmouth, SD 05113  \n",
       "2  87025 Mark Dale Apt. 269\\r\\nNew Sabrina, WV 05113  \n",
       "3            823 Reid Ford\\r\\nDelacruzside, MA 00813  \n",
       "4             679 Luna Roads\\r\\nGreggshire, VA 11650  \n",
       "\n",
       "[5 rows x 27 columns]"
      ]
     },
     "execution_count": 6,
     "metadata": {},
     "output_type": "execute_result"
    }
   ],
   "source": [
    "df.head()"
   ]
  },
  {
   "cell_type": "code",
   "execution_count": 7,
   "id": "bf5038b6",
   "metadata": {},
   "outputs": [
    {
     "name": "stdout",
     "output_type": "stream",
     "text": [
      "<class 'pandas.core.frame.DataFrame'>\n",
      "RangeIndex: 396030 entries, 0 to 396029\n",
      "Data columns (total 27 columns):\n",
      " #   Column                Non-Null Count   Dtype  \n",
      "---  ------                --------------   -----  \n",
      " 0   loan_amnt             396030 non-null  float64\n",
      " 1   term                  396030 non-null  object \n",
      " 2   int_rate              396030 non-null  float64\n",
      " 3   installment           396030 non-null  float64\n",
      " 4   grade                 396030 non-null  object \n",
      " 5   sub_grade             396030 non-null  object \n",
      " 6   emp_title             373103 non-null  object \n",
      " 7   emp_length            377729 non-null  object \n",
      " 8   home_ownership        396030 non-null  object \n",
      " 9   annual_inc            396030 non-null  float64\n",
      " 10  verification_status   396030 non-null  object \n",
      " 11  issue_d               396030 non-null  object \n",
      " 12  loan_status           396030 non-null  object \n",
      " 13  purpose               396030 non-null  object \n",
      " 14  title                 394275 non-null  object \n",
      " 15  dti                   396030 non-null  float64\n",
      " 16  earliest_cr_line      396030 non-null  object \n",
      " 17  open_acc              396030 non-null  float64\n",
      " 18  pub_rec               396030 non-null  float64\n",
      " 19  revol_bal             396030 non-null  float64\n",
      " 20  revol_util            395754 non-null  float64\n",
      " 21  total_acc             396030 non-null  float64\n",
      " 22  initial_list_status   396030 non-null  object \n",
      " 23  application_type      396030 non-null  object \n",
      " 24  mort_acc              358235 non-null  float64\n",
      " 25  pub_rec_bankruptcies  395495 non-null  float64\n",
      " 26  address               396030 non-null  object \n",
      "dtypes: float64(12), object(15)\n",
      "memory usage: 81.6+ MB\n"
     ]
    }
   ],
   "source": [
    "df.info()"
   ]
  },
  {
   "cell_type": "markdown",
   "id": "d05e32a5",
   "metadata": {},
   "source": [
    "#### Getting a general idea of datatypes and null values for each column"
   ]
  },
  {
   "cell_type": "code",
   "execution_count": 8,
   "id": "d20cf651",
   "metadata": {
    "scrolled": false
   },
   "outputs": [
    {
     "data": {
      "text/html": [
       "<div>\n",
       "<style scoped>\n",
       "    .dataframe tbody tr th:only-of-type {\n",
       "        vertical-align: middle;\n",
       "    }\n",
       "\n",
       "    .dataframe tbody tr th {\n",
       "        vertical-align: top;\n",
       "    }\n",
       "\n",
       "    .dataframe thead th {\n",
       "        text-align: right;\n",
       "    }\n",
       "</style>\n",
       "<table border=\"1\" class=\"dataframe\">\n",
       "  <thead>\n",
       "    <tr style=\"text-align: right;\">\n",
       "      <th></th>\n",
       "      <th>loan_amnt</th>\n",
       "      <th>int_rate</th>\n",
       "      <th>installment</th>\n",
       "      <th>annual_inc</th>\n",
       "      <th>dti</th>\n",
       "      <th>open_acc</th>\n",
       "      <th>pub_rec</th>\n",
       "      <th>revol_bal</th>\n",
       "      <th>revol_util</th>\n",
       "      <th>total_acc</th>\n",
       "      <th>mort_acc</th>\n",
       "      <th>pub_rec_bankruptcies</th>\n",
       "    </tr>\n",
       "  </thead>\n",
       "  <tbody>\n",
       "    <tr>\n",
       "      <th>count</th>\n",
       "      <td>396030.000000</td>\n",
       "      <td>396030.000000</td>\n",
       "      <td>396030.000000</td>\n",
       "      <td>3.960300e+05</td>\n",
       "      <td>396030.000000</td>\n",
       "      <td>396030.000000</td>\n",
       "      <td>396030.000000</td>\n",
       "      <td>3.960300e+05</td>\n",
       "      <td>395754.000000</td>\n",
       "      <td>396030.000000</td>\n",
       "      <td>358235.000000</td>\n",
       "      <td>395495.000000</td>\n",
       "    </tr>\n",
       "    <tr>\n",
       "      <th>mean</th>\n",
       "      <td>14113.888089</td>\n",
       "      <td>13.639400</td>\n",
       "      <td>431.849698</td>\n",
       "      <td>7.420318e+04</td>\n",
       "      <td>17.379514</td>\n",
       "      <td>11.311153</td>\n",
       "      <td>0.178191</td>\n",
       "      <td>1.584454e+04</td>\n",
       "      <td>53.791749</td>\n",
       "      <td>25.414744</td>\n",
       "      <td>1.813991</td>\n",
       "      <td>0.121648</td>\n",
       "    </tr>\n",
       "    <tr>\n",
       "      <th>std</th>\n",
       "      <td>8357.441341</td>\n",
       "      <td>4.472157</td>\n",
       "      <td>250.727790</td>\n",
       "      <td>6.163762e+04</td>\n",
       "      <td>18.019092</td>\n",
       "      <td>5.137649</td>\n",
       "      <td>0.530671</td>\n",
       "      <td>2.059184e+04</td>\n",
       "      <td>24.452193</td>\n",
       "      <td>11.886991</td>\n",
       "      <td>2.147930</td>\n",
       "      <td>0.356174</td>\n",
       "    </tr>\n",
       "    <tr>\n",
       "      <th>min</th>\n",
       "      <td>500.000000</td>\n",
       "      <td>5.320000</td>\n",
       "      <td>16.080000</td>\n",
       "      <td>0.000000e+00</td>\n",
       "      <td>0.000000</td>\n",
       "      <td>0.000000</td>\n",
       "      <td>0.000000</td>\n",
       "      <td>0.000000e+00</td>\n",
       "      <td>0.000000</td>\n",
       "      <td>2.000000</td>\n",
       "      <td>0.000000</td>\n",
       "      <td>0.000000</td>\n",
       "    </tr>\n",
       "    <tr>\n",
       "      <th>25%</th>\n",
       "      <td>8000.000000</td>\n",
       "      <td>10.490000</td>\n",
       "      <td>250.330000</td>\n",
       "      <td>4.500000e+04</td>\n",
       "      <td>11.280000</td>\n",
       "      <td>8.000000</td>\n",
       "      <td>0.000000</td>\n",
       "      <td>6.025000e+03</td>\n",
       "      <td>35.800000</td>\n",
       "      <td>17.000000</td>\n",
       "      <td>0.000000</td>\n",
       "      <td>0.000000</td>\n",
       "    </tr>\n",
       "    <tr>\n",
       "      <th>50%</th>\n",
       "      <td>12000.000000</td>\n",
       "      <td>13.330000</td>\n",
       "      <td>375.430000</td>\n",
       "      <td>6.400000e+04</td>\n",
       "      <td>16.910000</td>\n",
       "      <td>10.000000</td>\n",
       "      <td>0.000000</td>\n",
       "      <td>1.118100e+04</td>\n",
       "      <td>54.800000</td>\n",
       "      <td>24.000000</td>\n",
       "      <td>1.000000</td>\n",
       "      <td>0.000000</td>\n",
       "    </tr>\n",
       "    <tr>\n",
       "      <th>75%</th>\n",
       "      <td>20000.000000</td>\n",
       "      <td>16.490000</td>\n",
       "      <td>567.300000</td>\n",
       "      <td>9.000000e+04</td>\n",
       "      <td>22.980000</td>\n",
       "      <td>14.000000</td>\n",
       "      <td>0.000000</td>\n",
       "      <td>1.962000e+04</td>\n",
       "      <td>72.900000</td>\n",
       "      <td>32.000000</td>\n",
       "      <td>3.000000</td>\n",
       "      <td>0.000000</td>\n",
       "    </tr>\n",
       "    <tr>\n",
       "      <th>max</th>\n",
       "      <td>40000.000000</td>\n",
       "      <td>30.990000</td>\n",
       "      <td>1533.810000</td>\n",
       "      <td>8.706582e+06</td>\n",
       "      <td>9999.000000</td>\n",
       "      <td>90.000000</td>\n",
       "      <td>86.000000</td>\n",
       "      <td>1.743266e+06</td>\n",
       "      <td>892.300000</td>\n",
       "      <td>151.000000</td>\n",
       "      <td>34.000000</td>\n",
       "      <td>8.000000</td>\n",
       "    </tr>\n",
       "  </tbody>\n",
       "</table>\n",
       "</div>"
      ],
      "text/plain": [
       "           loan_amnt       int_rate    installment    annual_inc  \\\n",
       "count  396030.000000  396030.000000  396030.000000  3.960300e+05   \n",
       "mean    14113.888089      13.639400     431.849698  7.420318e+04   \n",
       "std      8357.441341       4.472157     250.727790  6.163762e+04   \n",
       "min       500.000000       5.320000      16.080000  0.000000e+00   \n",
       "25%      8000.000000      10.490000     250.330000  4.500000e+04   \n",
       "50%     12000.000000      13.330000     375.430000  6.400000e+04   \n",
       "75%     20000.000000      16.490000     567.300000  9.000000e+04   \n",
       "max     40000.000000      30.990000    1533.810000  8.706582e+06   \n",
       "\n",
       "                 dti       open_acc        pub_rec     revol_bal  \\\n",
       "count  396030.000000  396030.000000  396030.000000  3.960300e+05   \n",
       "mean       17.379514      11.311153       0.178191  1.584454e+04   \n",
       "std        18.019092       5.137649       0.530671  2.059184e+04   \n",
       "min         0.000000       0.000000       0.000000  0.000000e+00   \n",
       "25%        11.280000       8.000000       0.000000  6.025000e+03   \n",
       "50%        16.910000      10.000000       0.000000  1.118100e+04   \n",
       "75%        22.980000      14.000000       0.000000  1.962000e+04   \n",
       "max      9999.000000      90.000000      86.000000  1.743266e+06   \n",
       "\n",
       "          revol_util      total_acc       mort_acc  pub_rec_bankruptcies  \n",
       "count  395754.000000  396030.000000  358235.000000         395495.000000  \n",
       "mean       53.791749      25.414744       1.813991              0.121648  \n",
       "std        24.452193      11.886991       2.147930              0.356174  \n",
       "min         0.000000       2.000000       0.000000              0.000000  \n",
       "25%        35.800000      17.000000       0.000000              0.000000  \n",
       "50%        54.800000      24.000000       1.000000              0.000000  \n",
       "75%        72.900000      32.000000       3.000000              0.000000  \n",
       "max       892.300000     151.000000      34.000000              8.000000  "
      ]
     },
     "execution_count": 8,
     "metadata": {},
     "output_type": "execute_result"
    }
   ],
   "source": [
    "df.describe()"
   ]
  },
  {
   "cell_type": "markdown",
   "id": "9e0c6c20",
   "metadata": {},
   "source": [
    "### Plotting a countplot for the subcategories"
   ]
  },
  {
   "cell_type": "code",
   "execution_count": 9,
   "id": "f0ca1b89",
   "metadata": {},
   "outputs": [
    {
     "data": {
      "image/png": "[encoded data removed]",
      "text/plain": [
       "<Figure size 864x432 with 1 Axes>"
      ]
     },
     "metadata": {
      "needs_background": "light"
     },
     "output_type": "display_data"
    }
   ],
   "source": [
    "plt.figure(figsize = (12,6))\n",
    "sns.countplot(x = 'sub_grade', data = df, order= sorted(df.sub_grade.unique()));"
   ]
  },
  {
   "cell_type": "markdown",
   "id": "828c0aa7",
   "metadata": {},
   "source": [
    "#### Checking the value counts for the Loan Status"
   ]
  },
  {
   "cell_type": "code",
   "execution_count": 10,
   "id": "c693f2f6",
   "metadata": {
    "scrolled": true
   },
   "outputs": [
    {
     "data": {
      "text/plain": [
       "Fully Paid     318357\n",
       "Charged Off     77673\n",
       "Name: loan_status, dtype: int64"
      ]
     },
     "execution_count": 10,
     "metadata": {},
     "output_type": "execute_result"
    }
   ],
   "source": [
    "df.loan_status.value_counts()"
   ]
  },
  {
   "cell_type": "markdown",
   "id": "1ad750d5",
   "metadata": {},
   "source": [
    "### Plotting a Pie chart to show the difference in magnitude of Fully Paid loans and Charged Off loans"
   ]
  },
  {
   "cell_type": "code",
   "execution_count": 11,
   "id": "5dcf83f0",
   "metadata": {},
   "outputs": [
    {
     "data": {
      "image/png": "[encoded data removed]",
      "text/plain": [
       "<Figure size 576x576 with 1 Axes>"
      ]
     },
     "metadata": {},
     "output_type": "display_data"
    }
   ],
   "source": [
    "fully_paid = df.loan_status.value_counts()[0]\n",
    "charged_off = df.loan_status.value_counts()[1]\n",
    "\n",
    "labels = [ 'Fully Paid', 'Charged Off']\n",
    "sizes = [fully_paid, charged_off]\n",
    "\n",
    "plt.figure(figsize=(8,8))\n",
    "plt.suptitle(\"Loans Repaid\", fontsize= 20)\n",
    "plt.pie(sizes, labels=labels, autopct='%1.1f%%', shadow= False, labeldistance= 1.3, pctdistance= 1.1);"
   ]
  },
  {
   "cell_type": "markdown",
   "id": "34081ce4",
   "metadata": {},
   "source": [
    "#### Imbalance between Fully Paid and being Charged Off that can negatively affect our model that tries to have a high recall score for the Charged Off label by overfitting to the Fully Paid portion"
   ]
  },
  {
   "cell_type": "markdown",
   "id": "958af350",
   "metadata": {},
   "source": [
    "## Downsampling the Fully Paid portion"
   ]
  },
  {
   "cell_type": "code",
   "execution_count": 12,
   "id": "cadd3dfa",
   "metadata": {},
   "outputs": [
    {
     "data": {
      "text/plain": [
       "((318357, 27), (77673, 27))"
      ]
     },
     "execution_count": 12,
     "metadata": {},
     "output_type": "execute_result"
    }
   ],
   "source": [
    "fully_paid = df[df.loan_status == 'Fully Paid']\n",
    "charged_off = df[df.loan_status == 'Charged Off']\n",
    "fully_paid.shape, charged_off.shape"
   ]
  },
  {
   "cell_type": "markdown",
   "id": "5b47a482",
   "metadata": {},
   "source": [
    "### Downsampling the fully paid portion to the size of the Charged Off portion"
   ]
  },
  {
   "cell_type": "code",
   "execution_count": 13,
   "id": "0484b306",
   "metadata": {},
   "outputs": [
    {
     "data": {
      "text/plain": [
       "(155346, 27)"
      ]
     },
     "execution_count": 13,
     "metadata": {},
     "output_type": "execute_result"
    }
   ],
   "source": [
    "downsampling_paid = resample(fully_paid, replace = False, n_samples= charged_off.shape[0], random_state=42)\n",
    "\n",
    "df = pd.concat([charged_off, downsampling_paid])\n",
    "df.shape"
   ]
  },
  {
   "cell_type": "code",
   "execution_count": 14,
   "id": "f03c185b",
   "metadata": {},
   "outputs": [
    {
     "data": {
      "text/plain": [
       "Charged Off    77673\n",
       "Fully Paid     77673\n",
       "Name: loan_status, dtype: int64"
      ]
     },
     "execution_count": 14,
     "metadata": {},
     "output_type": "execute_result"
    }
   ],
   "source": [
    "df.loan_status.value_counts()"
   ]
  },
  {
   "cell_type": "markdown",
   "id": "a559877e",
   "metadata": {},
   "source": [
    "### Checking for outliers in our data"
   ]
  },
  {
   "cell_type": "code",
   "execution_count": 15,
   "id": "6c86a94e",
   "metadata": {
    "scrolled": true
   },
   "outputs": [
    {
     "data": {
      "image/png": "[encoded data removed]",
      "text/plain": [
       "<Figure size 720x720 with 12 Axes>"
      ]
     },
     "metadata": {
      "needs_background": "light"
     },
     "output_type": "display_data"
    }
   ],
   "source": [
    "df.hist(figsize= (10,10));"
   ]
  },
  {
   "cell_type": "markdown",
   "id": "c48fe38d",
   "metadata": {},
   "source": [
    "### Removing outliers that may which can result in misleading interpretations. "
   ]
  },
  {
   "cell_type": "code",
   "execution_count": 16,
   "id": "60e0444f",
   "metadata": {},
   "outputs": [
    {
     "data": {
      "text/plain": [
       "(115751.17499999932, 300000.0, 115.57689999997964)"
      ]
     },
     "execution_count": 16,
     "metadata": {},
     "output_type": "execute_result"
    }
   ],
   "source": [
    "revol_bal_99 = df.revol_bal.quantile(0.995)\n",
    "annual_inc_99 = df.annual_inc.quantile(0.995)\n",
    "revol_util_99 = df.revol_util.quantile(0.9999)\n",
    "revol_bal_99, annual_inc_99 ,revol_util_99"
   ]
  },
  {
   "cell_type": "code",
   "execution_count": 17,
   "id": "f4d8bdc6",
   "metadata": {},
   "outputs": [],
   "source": [
    "df = df[df['revol_bal'] <= revol_bal_99]\n",
    "df = df[df['annual_inc'] <= annual_inc_99]\n",
    "df = df[df['revol_util'] <= revol_util_99]"
   ]
  },
  {
   "cell_type": "code",
   "execution_count": 18,
   "id": "d6dffb62",
   "metadata": {},
   "outputs": [],
   "source": [
    "df = df[df.pub_rec < 20]\n",
    "df = df[df.dti < 1000]"
   ]
  },
  {
   "cell_type": "code",
   "execution_count": 19,
   "id": "75cc0592",
   "metadata": {
    "scrolled": true
   },
   "outputs": [
    {
     "data": {
      "image/png": "[encoded data removed]",
      "text/plain": [
       "<Figure size 720x720 with 12 Axes>"
      ]
     },
     "metadata": {
      "needs_background": "light"
     },
     "output_type": "display_data"
    }
   ],
   "source": [
    "df.hist(figsize= (10,10));"
   ]
  },
  {
   "cell_type": "markdown",
   "id": "6da8c2a8",
   "metadata": {},
   "source": [
    "### Checking the updated size of the DataFrame"
   ]
  },
  {
   "cell_type": "code",
   "execution_count": 20,
   "id": "2af4602b",
   "metadata": {},
   "outputs": [
    {
     "data": {
      "text/plain": [
       "(153874, 27)"
      ]
     },
     "execution_count": 20,
     "metadata": {},
     "output_type": "execute_result"
    }
   ],
   "source": [
    "df.shape"
   ]
  },
  {
   "cell_type": "markdown",
   "id": "6f95d148",
   "metadata": {},
   "source": [
    "## Handling nan values and transforming strings to numeric data-types"
   ]
  },
  {
   "cell_type": "code",
   "execution_count": 21,
   "id": "1e00905d",
   "metadata": {},
   "outputs": [
    {
     "name": "stdout",
     "output_type": "stream",
     "text": [
      "<class 'pandas.core.frame.DataFrame'>\n",
      "Int64Index: 153874 entries, 4 to 48838\n",
      "Data columns (total 27 columns):\n",
      " #   Column                Non-Null Count   Dtype  \n",
      "---  ------                --------------   -----  \n",
      " 0   loan_amnt             153874 non-null  float64\n",
      " 1   term                  153874 non-null  object \n",
      " 2   int_rate              153874 non-null  float64\n",
      " 3   installment           153874 non-null  float64\n",
      " 4   grade                 153874 non-null  object \n",
      " 5   sub_grade             153874 non-null  object \n",
      " 6   emp_title             143879 non-null  object \n",
      " 7   emp_length            145666 non-null  object \n",
      " 8   home_ownership        153874 non-null  object \n",
      " 9   annual_inc            153874 non-null  float64\n",
      " 10  verification_status   153874 non-null  object \n",
      " 11  issue_d               153874 non-null  object \n",
      " 12  loan_status           153874 non-null  object \n",
      " 13  purpose               153874 non-null  object \n",
      " 14  title                 153212 non-null  object \n",
      " 15  dti                   153874 non-null  float64\n",
      " 16  earliest_cr_line      153874 non-null  object \n",
      " 17  open_acc              153874 non-null  float64\n",
      " 18  pub_rec               153874 non-null  float64\n",
      " 19  revol_bal             153874 non-null  float64\n",
      " 20  revol_util            153874 non-null  float64\n",
      " 21  total_acc             153874 non-null  float64\n",
      " 22  initial_list_status   153874 non-null  object \n",
      " 23  application_type      153874 non-null  object \n",
      " 24  mort_acc              140583 non-null  float64\n",
      " 25  pub_rec_bankruptcies  153679 non-null  float64\n",
      " 26  address               153874 non-null  object \n",
      "dtypes: float64(12), object(15)\n",
      "memory usage: 32.9+ MB\n"
     ]
    }
   ],
   "source": [
    "df.info()"
   ]
  },
  {
   "cell_type": "code",
   "execution_count": 22,
   "id": "265385df",
   "metadata": {},
   "outputs": [
    {
     "data": {
      "text/plain": [
       "loan_amnt                   0\n",
       "term                        0\n",
       "int_rate                    0\n",
       "installment                 0\n",
       "grade                       0\n",
       "sub_grade                   0\n",
       "emp_title                9995\n",
       "emp_length               8208\n",
       "home_ownership              0\n",
       "annual_inc                  0\n",
       "verification_status         0\n",
       "issue_d                     0\n",
       "loan_status                 0\n",
       "purpose                     0\n",
       "title                     662\n",
       "dti                         0\n",
       "earliest_cr_line            0\n",
       "open_acc                    0\n",
       "pub_rec                     0\n",
       "revol_bal                   0\n",
       "revol_util                  0\n",
       "total_acc                   0\n",
       "initial_list_status         0\n",
       "application_type            0\n",
       "mort_acc                13291\n",
       "pub_rec_bankruptcies      195\n",
       "address                     0\n",
       "dtype: int64"
      ]
     },
     "execution_count": 22,
     "metadata": {},
     "output_type": "execute_result"
    }
   ],
   "source": [
    "df.isna().sum()"
   ]
  },
  {
   "cell_type": "code",
   "execution_count": 23,
   "id": "a631a04d",
   "metadata": {
    "scrolled": true
   },
   "outputs": [
    {
     "data": {
      "text/html": [
       "<div>\n",
       "<style scoped>\n",
       "    .dataframe tbody tr th:only-of-type {\n",
       "        vertical-align: middle;\n",
       "    }\n",
       "\n",
       "    .dataframe tbody tr th {\n",
       "        vertical-align: top;\n",
       "    }\n",
       "\n",
       "    .dataframe thead th {\n",
       "        text-align: right;\n",
       "    }\n",
       "</style>\n",
       "<table border=\"1\" class=\"dataframe\">\n",
       "  <thead>\n",
       "    <tr style=\"text-align: right;\">\n",
       "      <th></th>\n",
       "      <th>loan_amnt</th>\n",
       "      <th>term</th>\n",
       "      <th>int_rate</th>\n",
       "      <th>installment</th>\n",
       "      <th>grade</th>\n",
       "      <th>sub_grade</th>\n",
       "      <th>emp_title</th>\n",
       "      <th>emp_length</th>\n",
       "      <th>home_ownership</th>\n",
       "      <th>annual_inc</th>\n",
       "      <th>...</th>\n",
       "      <th>open_acc</th>\n",
       "      <th>pub_rec</th>\n",
       "      <th>revol_bal</th>\n",
       "      <th>revol_util</th>\n",
       "      <th>total_acc</th>\n",
       "      <th>initial_list_status</th>\n",
       "      <th>application_type</th>\n",
       "      <th>mort_acc</th>\n",
       "      <th>pub_rec_bankruptcies</th>\n",
       "      <th>address</th>\n",
       "    </tr>\n",
       "  </thead>\n",
       "  <tbody>\n",
       "    <tr>\n",
       "      <th>4</th>\n",
       "      <td>24375.0</td>\n",
       "      <td>60 months</td>\n",
       "      <td>17.27</td>\n",
       "      <td>609.33</td>\n",
       "      <td>C</td>\n",
       "      <td>C5</td>\n",
       "      <td>Destiny Management Inc.</td>\n",
       "      <td>9 years</td>\n",
       "      <td>MORTGAGE</td>\n",
       "      <td>55000.0</td>\n",
       "      <td>...</td>\n",
       "      <td>13.0</td>\n",
       "      <td>0.0</td>\n",
       "      <td>24584.0</td>\n",
       "      <td>69.8</td>\n",
       "      <td>43.0</td>\n",
       "      <td>f</td>\n",
       "      <td>INDIVIDUAL</td>\n",
       "      <td>1.0</td>\n",
       "      <td>0.0</td>\n",
       "      <td>679 Luna Roads\\r\\nGreggshire, VA 11650</td>\n",
       "    </tr>\n",
       "    <tr>\n",
       "      <th>25</th>\n",
       "      <td>6000.0</td>\n",
       "      <td>36 months</td>\n",
       "      <td>11.36</td>\n",
       "      <td>197.47</td>\n",
       "      <td>B</td>\n",
       "      <td>B5</td>\n",
       "      <td>CSU Monterey Bay</td>\n",
       "      <td>2 years</td>\n",
       "      <td>RENT</td>\n",
       "      <td>46680.0</td>\n",
       "      <td>...</td>\n",
       "      <td>9.0</td>\n",
       "      <td>0.0</td>\n",
       "      <td>4370.0</td>\n",
       "      <td>40.1</td>\n",
       "      <td>10.0</td>\n",
       "      <td>f</td>\n",
       "      <td>INDIVIDUAL</td>\n",
       "      <td>NaN</td>\n",
       "      <td>0.0</td>\n",
       "      <td>44130 Powers Course Suite 880\\r\\nEast Preston,...</td>\n",
       "    </tr>\n",
       "    <tr>\n",
       "      <th>26</th>\n",
       "      <td>8400.0</td>\n",
       "      <td>36 months</td>\n",
       "      <td>13.35</td>\n",
       "      <td>284.45</td>\n",
       "      <td>C</td>\n",
       "      <td>C2</td>\n",
       "      <td>Bartender</td>\n",
       "      <td>6 years</td>\n",
       "      <td>RENT</td>\n",
       "      <td>35000.0</td>\n",
       "      <td>...</td>\n",
       "      <td>6.0</td>\n",
       "      <td>0.0</td>\n",
       "      <td>6953.0</td>\n",
       "      <td>74.8</td>\n",
       "      <td>17.0</td>\n",
       "      <td>f</td>\n",
       "      <td>INDIVIDUAL</td>\n",
       "      <td>0.0</td>\n",
       "      <td>0.0</td>\n",
       "      <td>Unit 3166 Box 1862\\r\\nDPO AE 48052</td>\n",
       "    </tr>\n",
       "    <tr>\n",
       "      <th>36</th>\n",
       "      <td>3250.0</td>\n",
       "      <td>36 months</td>\n",
       "      <td>16.78</td>\n",
       "      <td>115.52</td>\n",
       "      <td>C</td>\n",
       "      <td>C5</td>\n",
       "      <td>NaN</td>\n",
       "      <td>NaN</td>\n",
       "      <td>RENT</td>\n",
       "      <td>22500.0</td>\n",
       "      <td>...</td>\n",
       "      <td>7.0</td>\n",
       "      <td>0.0</td>\n",
       "      <td>7587.0</td>\n",
       "      <td>54.6</td>\n",
       "      <td>7.0</td>\n",
       "      <td>f</td>\n",
       "      <td>INDIVIDUAL</td>\n",
       "      <td>0.0</td>\n",
       "      <td>0.0</td>\n",
       "      <td>361 Erica Forest\\r\\nLake Mariaton, TN 30723</td>\n",
       "    </tr>\n",
       "    <tr>\n",
       "      <th>41</th>\n",
       "      <td>28000.0</td>\n",
       "      <td>60 months</td>\n",
       "      <td>19.91</td>\n",
       "      <td>312.04</td>\n",
       "      <td>E</td>\n",
       "      <td>E4</td>\n",
       "      <td>American Airlines</td>\n",
       "      <td>10+ years</td>\n",
       "      <td>RENT</td>\n",
       "      <td>52000.0</td>\n",
       "      <td>...</td>\n",
       "      <td>10.0</td>\n",
       "      <td>0.0</td>\n",
       "      <td>29178.0</td>\n",
       "      <td>87.6</td>\n",
       "      <td>16.0</td>\n",
       "      <td>f</td>\n",
       "      <td>INDIVIDUAL</td>\n",
       "      <td>NaN</td>\n",
       "      <td>0.0</td>\n",
       "      <td>5836 Garcia Falls Apt. 525\\r\\nMatthewtown, CT ...</td>\n",
       "    </tr>\n",
       "  </tbody>\n",
       "</table>\n",
       "<p>5 rows × 27 columns</p>\n",
       "</div>"
      ],
      "text/plain": [
       "    loan_amnt        term  int_rate  installment grade sub_grade  \\\n",
       "4     24375.0   60 months     17.27       609.33     C        C5   \n",
       "25     6000.0   36 months     11.36       197.47     B        B5   \n",
       "26     8400.0   36 months     13.35       284.45     C        C2   \n",
       "36     3250.0   36 months     16.78       115.52     C        C5   \n",
       "41    28000.0   60 months     19.91       312.04     E        E4   \n",
       "\n",
       "                  emp_title emp_length home_ownership  annual_inc  ...  \\\n",
       "4   Destiny Management Inc.    9 years       MORTGAGE     55000.0  ...   \n",
       "25         CSU Monterey Bay    2 years           RENT     46680.0  ...   \n",
       "26                Bartender    6 years           RENT     35000.0  ...   \n",
       "36                      NaN        NaN           RENT     22500.0  ...   \n",
       "41        American Airlines  10+ years           RENT     52000.0  ...   \n",
       "\n",
       "   open_acc pub_rec revol_bal revol_util total_acc  initial_list_status  \\\n",
       "4      13.0     0.0   24584.0       69.8      43.0                    f   \n",
       "25      9.0     0.0    4370.0       40.1      10.0                    f   \n",
       "26      6.0     0.0    6953.0       74.8      17.0                    f   \n",
       "36      7.0     0.0    7587.0       54.6       7.0                    f   \n",
       "41     10.0     0.0   29178.0       87.6      16.0                    f   \n",
       "\n",
       "   application_type  mort_acc  pub_rec_bankruptcies  \\\n",
       "4        INDIVIDUAL       1.0                   0.0   \n",
       "25       INDIVIDUAL       NaN                   0.0   \n",
       "26       INDIVIDUAL       0.0                   0.0   \n",
       "36       INDIVIDUAL       0.0                   0.0   \n",
       "41       INDIVIDUAL       NaN                   0.0   \n",
       "\n",
       "                                              address  \n",
       "4              679 Luna Roads\\r\\nGreggshire, VA 11650  \n",
       "25  44130 Powers Course Suite 880\\r\\nEast Preston,...  \n",
       "26                 Unit 3166 Box 1862\\r\\nDPO AE 48052  \n",
       "36        361 Erica Forest\\r\\nLake Mariaton, TN 30723  \n",
       "41  5836 Garcia Falls Apt. 525\\r\\nMatthewtown, CT ...  \n",
       "\n",
       "[5 rows x 27 columns]"
      ]
     },
     "execution_count": 23,
     "metadata": {},
     "output_type": "execute_result"
    }
   ],
   "source": [
    "df.head()"
   ]
  },
  {
   "cell_type": "markdown",
   "id": "49666b00",
   "metadata": {},
   "source": [
    "### Checking unique string values that will be One Hot Encoded"
   ]
  },
  {
   "cell_type": "code",
   "execution_count": 24,
   "id": "52d88ede",
   "metadata": {
    "scrolled": true
   },
   "outputs": [
    {
     "data": {
      "text/plain": [
       "[array(['MORTGAGE', 'RENT', 'OWN', 'OTHER', 'NONE'], dtype=object),\n",
       " array(['INDIVIDUAL', 'DIRECT_PAY', 'JOINT'], dtype=object),\n",
       " array([' 60 months', ' 36 months'], dtype=object),\n",
       " array(['Verified', 'Not Verified', 'Source Verified'], dtype=object),\n",
       " array(['f', 'w'], dtype=object),\n",
       " array([ 1., nan,  0.,  6.,  4.,  2.,  7.,  5.,  3., 11., 10., 13.,  8.,\n",
       "         9., 12., 22., 19., 16., 17., 15., 14., 18., 20., 23., 24., 26.,\n",
       "        32., 27., 25.]),\n",
       " 75829]"
      ]
     },
     "execution_count": 24,
     "metadata": {},
     "output_type": "execute_result"
    }
   ],
   "source": [
    "[df.home_ownership.unique(), df.application_type.unique(), df.term.unique(), df.verification_status.unique(),\n",
    "df.initial_list_status.unique(), df.mort_acc.unique(), df.emp_title.nunique()]"
   ]
  },
  {
   "cell_type": "markdown",
   "id": "1b6617d9",
   "metadata": {},
   "source": [
    "### Dropping emp_title as it has more than 75 unique string values"
   ]
  },
  {
   "cell_type": "code",
   "execution_count": 25,
   "id": "a0431a55",
   "metadata": {},
   "outputs": [],
   "source": [
    "df = df.drop('emp_title', axis = 1)"
   ]
  },
  {
   "cell_type": "code",
   "execution_count": 26,
   "id": "75e06b6e",
   "metadata": {},
   "outputs": [
    {
     "name": "stdout",
     "output_type": "stream",
     "text": [
      "The month the borrower's earliest reported credit line was opened\n"
     ]
    }
   ],
   "source": [
    "feat_info('earliest_cr_line')"
   ]
  },
  {
   "cell_type": "code",
   "execution_count": 27,
   "id": "0db9b80c",
   "metadata": {},
   "outputs": [],
   "source": [
    "df.earliest_cr_line = pd.to_datetime(df.earliest_cr_line)\n",
    "df.issue_d = pd.to_datetime(df.issue_d)"
   ]
  },
  {
   "cell_type": "code",
   "execution_count": 28,
   "id": "59e8a40f",
   "metadata": {},
   "outputs": [
    {
     "data": {
      "text/plain": [
       "(647, 114)"
      ]
     },
     "execution_count": 28,
     "metadata": {},
     "output_type": "execute_result"
    }
   ],
   "source": [
    "df.earliest_cr_line.nunique(), df.issue_d.nunique()"
   ]
  },
  {
   "cell_type": "markdown",
   "id": "81c57045",
   "metadata": {},
   "source": [
    "### earliest_cr_line and issue_d contain too many unique values to be encoded so we'll just use the years"
   ]
  },
  {
   "cell_type": "code",
   "execution_count": 29,
   "id": "b5b54068",
   "metadata": {},
   "outputs": [],
   "source": [
    "df['earliest_cr_year'] = pd.DatetimeIndex(df.earliest_cr_line).year\n",
    "df['issue_year'] = pd.DatetimeIndex(df.issue_d).year"
   ]
  },
  {
   "cell_type": "markdown",
   "id": "e872b9d4",
   "metadata": {},
   "source": [
    "### Dropping earliest_cr_line and issue_d after feature engineering"
   ]
  },
  {
   "cell_type": "code",
   "execution_count": 30,
   "id": "a23993e9",
   "metadata": {},
   "outputs": [],
   "source": [
    "df.drop(['earliest_cr_line', 'issue_d'], axis = 1, inplace= True)"
   ]
  },
  {
   "cell_type": "markdown",
   "id": "cd2380c3",
   "metadata": {},
   "source": [
    "### Plotting a correlation heatmap"
   ]
  },
  {
   "cell_type": "code",
   "execution_count": 31,
   "id": "94339e7e",
   "metadata": {
    "scrolled": false
   },
   "outputs": [
    {
     "data": {
      "image/png": "[encoded data removed]",
      "text/plain": [
       "<Figure size 864x504 with 2 Axes>"
      ]
     },
     "metadata": {
      "needs_background": "light"
     },
     "output_type": "display_data"
    }
   ],
   "source": [
    "plt.figure(figsize=(12,7))\n",
    "sns.heatmap(df.corr(),annot=True,cmap='Blues');"
   ]
  },
  {
   "cell_type": "markdown",
   "id": "c259a818",
   "metadata": {},
   "source": [
    "### Plotting installment against loan amount as they have a very high correlation"
   ]
  },
  {
   "cell_type": "code",
   "execution_count": 32,
   "id": "4bd17c8e",
   "metadata": {
    "scrolled": true
   },
   "outputs": [
    {
     "data": {
      "image/png": "[encoded data removed]",
      "text/plain": [
       "<Figure size 648x432 with 1 Axes>"
      ]
     },
     "metadata": {
      "needs_background": "light"
     },
     "output_type": "display_data"
    }
   ],
   "source": [
    "plt.figure(figsize = (9, 6))\n",
    "sns.scatterplot(x='installment',y='loan_amnt',data=df);"
   ]
  },
  {
   "cell_type": "code",
   "execution_count": 33,
   "id": "90d625d1",
   "metadata": {},
   "outputs": [
    {
     "name": "stdout",
     "output_type": "stream",
     "text": [
      "The initial listing status of the loan. Possible values are – W, F\n"
     ]
    }
   ],
   "source": [
    "feat_info('initial_list_status')"
   ]
  },
  {
   "cell_type": "code",
   "execution_count": 34,
   "id": "3bcce35f",
   "metadata": {},
   "outputs": [
    {
     "data": {
      "text/plain": [
       "array(['f', 'w'], dtype=object)"
      ]
     },
     "execution_count": 34,
     "metadata": {},
     "output_type": "execute_result"
    }
   ],
   "source": [
    "df.initial_list_status.unique()"
   ]
  },
  {
   "cell_type": "code",
   "execution_count": 35,
   "id": "90359789",
   "metadata": {
    "scrolled": true
   },
   "outputs": [
    {
     "data": {
      "text/html": [
       "<div>\n",
       "<style scoped>\n",
       "    .dataframe tbody tr th:only-of-type {\n",
       "        vertical-align: middle;\n",
       "    }\n",
       "\n",
       "    .dataframe tbody tr th {\n",
       "        vertical-align: top;\n",
       "    }\n",
       "\n",
       "    .dataframe thead th {\n",
       "        text-align: right;\n",
       "    }\n",
       "</style>\n",
       "<table border=\"1\" class=\"dataframe\">\n",
       "  <thead>\n",
       "    <tr style=\"text-align: right;\">\n",
       "      <th></th>\n",
       "      <th>loan_amnt</th>\n",
       "      <th>term</th>\n",
       "      <th>int_rate</th>\n",
       "      <th>installment</th>\n",
       "      <th>grade</th>\n",
       "      <th>sub_grade</th>\n",
       "      <th>emp_length</th>\n",
       "      <th>home_ownership</th>\n",
       "      <th>annual_inc</th>\n",
       "      <th>verification_status</th>\n",
       "      <th>...</th>\n",
       "      <th>revol_bal</th>\n",
       "      <th>revol_util</th>\n",
       "      <th>total_acc</th>\n",
       "      <th>initial_list_status</th>\n",
       "      <th>application_type</th>\n",
       "      <th>mort_acc</th>\n",
       "      <th>pub_rec_bankruptcies</th>\n",
       "      <th>address</th>\n",
       "      <th>earliest_cr_year</th>\n",
       "      <th>issue_year</th>\n",
       "    </tr>\n",
       "  </thead>\n",
       "  <tbody>\n",
       "    <tr>\n",
       "      <th>4</th>\n",
       "      <td>24375.0</td>\n",
       "      <td>60 months</td>\n",
       "      <td>17.27</td>\n",
       "      <td>609.33</td>\n",
       "      <td>C</td>\n",
       "      <td>C5</td>\n",
       "      <td>9 years</td>\n",
       "      <td>MORTGAGE</td>\n",
       "      <td>55000.0</td>\n",
       "      <td>Verified</td>\n",
       "      <td>...</td>\n",
       "      <td>24584.0</td>\n",
       "      <td>69.8</td>\n",
       "      <td>43.0</td>\n",
       "      <td>f</td>\n",
       "      <td>INDIVIDUAL</td>\n",
       "      <td>1.0</td>\n",
       "      <td>0.0</td>\n",
       "      <td>679 Luna Roads\\r\\nGreggshire, VA 11650</td>\n",
       "      <td>1999</td>\n",
       "      <td>2013</td>\n",
       "    </tr>\n",
       "    <tr>\n",
       "      <th>25</th>\n",
       "      <td>6000.0</td>\n",
       "      <td>36 months</td>\n",
       "      <td>11.36</td>\n",
       "      <td>197.47</td>\n",
       "      <td>B</td>\n",
       "      <td>B5</td>\n",
       "      <td>2 years</td>\n",
       "      <td>RENT</td>\n",
       "      <td>46680.0</td>\n",
       "      <td>Not Verified</td>\n",
       "      <td>...</td>\n",
       "      <td>4370.0</td>\n",
       "      <td>40.1</td>\n",
       "      <td>10.0</td>\n",
       "      <td>f</td>\n",
       "      <td>INDIVIDUAL</td>\n",
       "      <td>NaN</td>\n",
       "      <td>0.0</td>\n",
       "      <td>44130 Powers Course Suite 880\\r\\nEast Preston,...</td>\n",
       "      <td>2003</td>\n",
       "      <td>2010</td>\n",
       "    </tr>\n",
       "    <tr>\n",
       "      <th>26</th>\n",
       "      <td>8400.0</td>\n",
       "      <td>36 months</td>\n",
       "      <td>13.35</td>\n",
       "      <td>284.45</td>\n",
       "      <td>C</td>\n",
       "      <td>C2</td>\n",
       "      <td>6 years</td>\n",
       "      <td>RENT</td>\n",
       "      <td>35000.0</td>\n",
       "      <td>Source Verified</td>\n",
       "      <td>...</td>\n",
       "      <td>6953.0</td>\n",
       "      <td>74.8</td>\n",
       "      <td>17.0</td>\n",
       "      <td>f</td>\n",
       "      <td>INDIVIDUAL</td>\n",
       "      <td>0.0</td>\n",
       "      <td>0.0</td>\n",
       "      <td>Unit 3166 Box 1862\\r\\nDPO AE 48052</td>\n",
       "      <td>2004</td>\n",
       "      <td>2014</td>\n",
       "    </tr>\n",
       "    <tr>\n",
       "      <th>36</th>\n",
       "      <td>3250.0</td>\n",
       "      <td>36 months</td>\n",
       "      <td>16.78</td>\n",
       "      <td>115.52</td>\n",
       "      <td>C</td>\n",
       "      <td>C5</td>\n",
       "      <td>NaN</td>\n",
       "      <td>RENT</td>\n",
       "      <td>22500.0</td>\n",
       "      <td>Verified</td>\n",
       "      <td>...</td>\n",
       "      <td>7587.0</td>\n",
       "      <td>54.6</td>\n",
       "      <td>7.0</td>\n",
       "      <td>f</td>\n",
       "      <td>INDIVIDUAL</td>\n",
       "      <td>0.0</td>\n",
       "      <td>0.0</td>\n",
       "      <td>361 Erica Forest\\r\\nLake Mariaton, TN 30723</td>\n",
       "      <td>2009</td>\n",
       "      <td>2013</td>\n",
       "    </tr>\n",
       "    <tr>\n",
       "      <th>41</th>\n",
       "      <td>28000.0</td>\n",
       "      <td>60 months</td>\n",
       "      <td>19.91</td>\n",
       "      <td>312.04</td>\n",
       "      <td>E</td>\n",
       "      <td>E4</td>\n",
       "      <td>10+ years</td>\n",
       "      <td>RENT</td>\n",
       "      <td>52000.0</td>\n",
       "      <td>Verified</td>\n",
       "      <td>...</td>\n",
       "      <td>29178.0</td>\n",
       "      <td>87.6</td>\n",
       "      <td>16.0</td>\n",
       "      <td>f</td>\n",
       "      <td>INDIVIDUAL</td>\n",
       "      <td>NaN</td>\n",
       "      <td>0.0</td>\n",
       "      <td>5836 Garcia Falls Apt. 525\\r\\nMatthewtown, CT ...</td>\n",
       "      <td>1988</td>\n",
       "      <td>2011</td>\n",
       "    </tr>\n",
       "  </tbody>\n",
       "</table>\n",
       "<p>5 rows × 26 columns</p>\n",
       "</div>"
      ],
      "text/plain": [
       "    loan_amnt        term  int_rate  installment grade sub_grade emp_length  \\\n",
       "4     24375.0   60 months     17.27       609.33     C        C5    9 years   \n",
       "25     6000.0   36 months     11.36       197.47     B        B5    2 years   \n",
       "26     8400.0   36 months     13.35       284.45     C        C2    6 years   \n",
       "36     3250.0   36 months     16.78       115.52     C        C5        NaN   \n",
       "41    28000.0   60 months     19.91       312.04     E        E4  10+ years   \n",
       "\n",
       "   home_ownership  annual_inc verification_status  ... revol_bal revol_util  \\\n",
       "4        MORTGAGE     55000.0            Verified  ...   24584.0       69.8   \n",
       "25           RENT     46680.0        Not Verified  ...    4370.0       40.1   \n",
       "26           RENT     35000.0     Source Verified  ...    6953.0       74.8   \n",
       "36           RENT     22500.0            Verified  ...    7587.0       54.6   \n",
       "41           RENT     52000.0            Verified  ...   29178.0       87.6   \n",
       "\n",
       "   total_acc  initial_list_status  application_type  mort_acc  \\\n",
       "4       43.0                    f        INDIVIDUAL       1.0   \n",
       "25      10.0                    f        INDIVIDUAL       NaN   \n",
       "26      17.0                    f        INDIVIDUAL       0.0   \n",
       "36       7.0                    f        INDIVIDUAL       0.0   \n",
       "41      16.0                    f        INDIVIDUAL       NaN   \n",
       "\n",
       "    pub_rec_bankruptcies                                            address  \\\n",
       "4                    0.0             679 Luna Roads\\r\\nGreggshire, VA 11650   \n",
       "25                   0.0  44130 Powers Course Suite 880\\r\\nEast Preston,...   \n",
       "26                   0.0                 Unit 3166 Box 1862\\r\\nDPO AE 48052   \n",
       "36                   0.0        361 Erica Forest\\r\\nLake Mariaton, TN 30723   \n",
       "41                   0.0  5836 Garcia Falls Apt. 525\\r\\nMatthewtown, CT ...   \n",
       "\n",
       "    earliest_cr_year issue_year  \n",
       "4               1999       2013  \n",
       "25              2003       2010  \n",
       "26              2004       2014  \n",
       "36              2009       2013  \n",
       "41              1988       2011  \n",
       "\n",
       "[5 rows x 26 columns]"
      ]
     },
     "execution_count": 35,
     "metadata": {},
     "output_type": "execute_result"
    }
   ],
   "source": [
    "df.head()"
   ]
  },
  {
   "cell_type": "markdown",
   "id": "643f9b61",
   "metadata": {},
   "source": [
    "### Extracting the zip-code from the address column"
   ]
  },
  {
   "cell_type": "code",
   "execution_count": 36,
   "id": "eeb64a36",
   "metadata": {},
   "outputs": [
    {
     "data": {
      "text/plain": [
       "4                    679 Luna Roads\\r\\nGreggshire, VA 11650\n",
       "25        44130 Powers Course Suite 880\\r\\nEast Preston,...\n",
       "26                       Unit 3166 Box 1862\\r\\nDPO AE 48052\n",
       "36              361 Erica Forest\\r\\nLake Mariaton, TN 30723\n",
       "41        5836 Garcia Falls Apt. 525\\r\\nMatthewtown, CT ...\n",
       "                                ...                        \n",
       "188814    24473 Matthew Lights\\r\\nSouth Raymondborough, ...\n",
       "207563    885 Ross Square Apt. 930\\r\\nEast Joshua, NJ 29597\n",
       "362986    71895 Ryan Forest Suite 978\\r\\nSouth William, ...\n",
       "342295     5170 Carr Loop Suite 053\\r\\nJordanland, ME 70466\n",
       "48838           53117 John Hollow\\r\\nWallaceburgh, WY 00813\n",
       "Name: address, Length: 153874, dtype: object"
      ]
     },
     "execution_count": 36,
     "metadata": {},
     "output_type": "execute_result"
    }
   ],
   "source": [
    "df.address"
   ]
  },
  {
   "cell_type": "code",
   "execution_count": 37,
   "id": "3cfa1327",
   "metadata": {},
   "outputs": [
    {
     "data": {
      "text/plain": [
       "10"
      ]
     },
     "execution_count": 37,
     "metadata": {},
     "output_type": "execute_result"
    }
   ],
   "source": [
    "df['zip_code'] = df['address'].apply(lambda address:address[-5:])\n",
    "df.zip_code.nunique()"
   ]
  },
  {
   "cell_type": "code",
   "execution_count": 38,
   "id": "1fd0c984",
   "metadata": {},
   "outputs": [],
   "source": [
    "dummies = pd.get_dummies(df['zip_code'],drop_first=True)\n",
    "df = df.drop(['zip_code','address'],axis=1)\n",
    "df = pd.concat([df,dummies],axis=1)"
   ]
  },
  {
   "cell_type": "markdown",
   "id": "0b6f2dad",
   "metadata": {},
   "source": [
    "### Checking and dropping the title column"
   ]
  },
  {
   "cell_type": "code",
   "execution_count": 39,
   "id": "c81da7e1",
   "metadata": {},
   "outputs": [
    {
     "data": {
      "text/plain": [
       "20106"
      ]
     },
     "execution_count": 39,
     "metadata": {},
     "output_type": "execute_result"
    }
   ],
   "source": [
    "df.title.nunique()"
   ]
  },
  {
   "cell_type": "code",
   "execution_count": 40,
   "id": "a587f986",
   "metadata": {},
   "outputs": [],
   "source": [
    "df.drop('title', axis = 1, inplace= True)"
   ]
  },
  {
   "cell_type": "code",
   "execution_count": 41,
   "id": "d8b82f74",
   "metadata": {},
   "outputs": [
    {
     "data": {
      "text/plain": [
       "loan_amnt                   0\n",
       "term                        0\n",
       "int_rate                    0\n",
       "installment                 0\n",
       "grade                       0\n",
       "sub_grade                   0\n",
       "emp_length               8208\n",
       "home_ownership              0\n",
       "annual_inc                  0\n",
       "verification_status         0\n",
       "loan_status                 0\n",
       "purpose                     0\n",
       "dti                         0\n",
       "open_acc                    0\n",
       "pub_rec                     0\n",
       "revol_bal                   0\n",
       "revol_util                  0\n",
       "total_acc                   0\n",
       "initial_list_status         0\n",
       "application_type            0\n",
       "mort_acc                13291\n",
       "pub_rec_bankruptcies      195\n",
       "earliest_cr_year            0\n",
       "issue_year                  0\n",
       "05113                       0\n",
       "11650                       0\n",
       "22690                       0\n",
       "29597                       0\n",
       "30723                       0\n",
       "48052                       0\n",
       "70466                       0\n",
       "86630                       0\n",
       "93700                       0\n",
       "dtype: int64"
      ]
     },
     "execution_count": 41,
     "metadata": {},
     "output_type": "execute_result"
    }
   ],
   "source": [
    "df.isna().sum()"
   ]
  },
  {
   "cell_type": "markdown",
   "id": "fab2cbc8",
   "metadata": {},
   "source": [
    "### Encoding the emp_length column"
   ]
  },
  {
   "cell_type": "code",
   "execution_count": 42,
   "id": "16911a6d",
   "metadata": {},
   "outputs": [
    {
     "name": "stdout",
     "output_type": "stream",
     "text": [
      "Employment length in years. Possible values are between 0 and 10 where 0 means less than one year and 10 means ten or more years. \n"
     ]
    }
   ],
   "source": [
    "feat_info('emp_length')"
   ]
  },
  {
   "cell_type": "code",
   "execution_count": 43,
   "id": "a803bb0d",
   "metadata": {},
   "outputs": [
    {
     "data": {
      "text/plain": [
       "array(['9 years', '2 years', '6 years', nan, '10+ years', '3 years',\n",
       "       '7 years', '5 years', '4 years', '1 year', '8 years', '< 1 year'],\n",
       "      dtype=object)"
      ]
     },
     "execution_count": 43,
     "metadata": {},
     "output_type": "execute_result"
    }
   ],
   "source": [
    "df.emp_length.unique()"
   ]
  },
  {
   "cell_type": "code",
   "execution_count": 44,
   "id": "7299b4cd",
   "metadata": {},
   "outputs": [],
   "source": [
    "df.emp_length = df.emp_length.map({'< 1 year':0, '1 year': 1, '2 years': 2, '3 years': 3,\n",
    "                                   '4 years':4, '5 years':5, '6 years':6, '7 years': 7,\n",
    "                                   '8 years': 8, '9 years':9, '10+ years': 10})"
   ]
  },
  {
   "cell_type": "markdown",
   "id": "7ccb229a",
   "metadata": {},
   "source": [
    "### Checking correlation of loan_status with the features"
   ]
  },
  {
   "cell_type": "code",
   "execution_count": 45,
   "id": "33909c6b",
   "metadata": {},
   "outputs": [
    {
     "data": {
      "text/plain": [
       "<AxesSubplot:>"
      ]
     },
     "execution_count": 45,
     "metadata": {},
     "output_type": "execute_result"
    },
    {
     "data": {
      "image/png": "[encoded data removed]",
      "text/plain": [
       "<Figure size 432x288 with 1 Axes>"
      ]
     },
     "metadata": {
      "needs_background": "light"
     },
     "output_type": "display_data"
    }
   ],
   "source": [
    "df.loan_status = df.loan_status.map({'Fully Paid' : 1, 'Charged Off' : 0})\n",
    "df.corr().loan_status.sort_values().drop(\"loan_status\").plot(kind = 'bar')"
   ]
  },
  {
   "cell_type": "markdown",
   "id": "055ab8f7",
   "metadata": {},
   "source": [
    "### Filling nan values of pub_rec_bankruptcies and emp_length with the mean value of the column"
   ]
  },
  {
   "cell_type": "code",
   "execution_count": 46,
   "id": "81a6ccb1",
   "metadata": {},
   "outputs": [],
   "source": [
    "df.pub_rec_bankruptcies = df.pub_rec_bankruptcies.fillna(df.pub_rec_bankruptcies.mean())\n",
    "df.emp_length = df.emp_length.fillna(df.emp_length.mean())"
   ]
  },
  {
   "cell_type": "markdown",
   "id": "952e3e3b",
   "metadata": {},
   "source": [
    "### Encoding term"
   ]
  },
  {
   "cell_type": "code",
   "execution_count": 47,
   "id": "c49c96c2",
   "metadata": {},
   "outputs": [],
   "source": [
    "df.term = df.term.map({' 36 months': 0, ' 60 months': 1})"
   ]
  },
  {
   "cell_type": "code",
   "execution_count": 48,
   "id": "50b236ae",
   "metadata": {},
   "outputs": [
    {
     "data": {
      "text/html": [
       "<div>\n",
       "<style scoped>\n",
       "    .dataframe tbody tr th:only-of-type {\n",
       "        vertical-align: middle;\n",
       "    }\n",
       "\n",
       "    .dataframe tbody tr th {\n",
       "        vertical-align: top;\n",
       "    }\n",
       "\n",
       "    .dataframe thead th {\n",
       "        text-align: right;\n",
       "    }\n",
       "</style>\n",
       "<table border=\"1\" class=\"dataframe\">\n",
       "  <thead>\n",
       "    <tr style=\"text-align: right;\">\n",
       "      <th></th>\n",
       "      <th>loan_amnt</th>\n",
       "      <th>term</th>\n",
       "      <th>int_rate</th>\n",
       "      <th>installment</th>\n",
       "      <th>grade</th>\n",
       "      <th>sub_grade</th>\n",
       "      <th>emp_length</th>\n",
       "      <th>home_ownership</th>\n",
       "      <th>annual_inc</th>\n",
       "      <th>verification_status</th>\n",
       "      <th>...</th>\n",
       "      <th>issue_year</th>\n",
       "      <th>05113</th>\n",
       "      <th>11650</th>\n",
       "      <th>22690</th>\n",
       "      <th>29597</th>\n",
       "      <th>30723</th>\n",
       "      <th>48052</th>\n",
       "      <th>70466</th>\n",
       "      <th>86630</th>\n",
       "      <th>93700</th>\n",
       "    </tr>\n",
       "  </thead>\n",
       "  <tbody>\n",
       "    <tr>\n",
       "      <th>4</th>\n",
       "      <td>24375.0</td>\n",
       "      <td>1</td>\n",
       "      <td>17.27</td>\n",
       "      <td>609.33</td>\n",
       "      <td>C</td>\n",
       "      <td>C5</td>\n",
       "      <td>9.000000</td>\n",
       "      <td>MORTGAGE</td>\n",
       "      <td>55000.0</td>\n",
       "      <td>Verified</td>\n",
       "      <td>...</td>\n",
       "      <td>2013</td>\n",
       "      <td>0</td>\n",
       "      <td>1</td>\n",
       "      <td>0</td>\n",
       "      <td>0</td>\n",
       "      <td>0</td>\n",
       "      <td>0</td>\n",
       "      <td>0</td>\n",
       "      <td>0</td>\n",
       "      <td>0</td>\n",
       "    </tr>\n",
       "    <tr>\n",
       "      <th>25</th>\n",
       "      <td>6000.0</td>\n",
       "      <td>0</td>\n",
       "      <td>11.36</td>\n",
       "      <td>197.47</td>\n",
       "      <td>B</td>\n",
       "      <td>B5</td>\n",
       "      <td>2.000000</td>\n",
       "      <td>RENT</td>\n",
       "      <td>46680.0</td>\n",
       "      <td>Not Verified</td>\n",
       "      <td>...</td>\n",
       "      <td>2010</td>\n",
       "      <td>0</td>\n",
       "      <td>0</td>\n",
       "      <td>0</td>\n",
       "      <td>0</td>\n",
       "      <td>1</td>\n",
       "      <td>0</td>\n",
       "      <td>0</td>\n",
       "      <td>0</td>\n",
       "      <td>0</td>\n",
       "    </tr>\n",
       "    <tr>\n",
       "      <th>26</th>\n",
       "      <td>8400.0</td>\n",
       "      <td>0</td>\n",
       "      <td>13.35</td>\n",
       "      <td>284.45</td>\n",
       "      <td>C</td>\n",
       "      <td>C2</td>\n",
       "      <td>6.000000</td>\n",
       "      <td>RENT</td>\n",
       "      <td>35000.0</td>\n",
       "      <td>Source Verified</td>\n",
       "      <td>...</td>\n",
       "      <td>2014</td>\n",
       "      <td>0</td>\n",
       "      <td>0</td>\n",
       "      <td>0</td>\n",
       "      <td>0</td>\n",
       "      <td>0</td>\n",
       "      <td>1</td>\n",
       "      <td>0</td>\n",
       "      <td>0</td>\n",
       "      <td>0</td>\n",
       "    </tr>\n",
       "    <tr>\n",
       "      <th>36</th>\n",
       "      <td>3250.0</td>\n",
       "      <td>0</td>\n",
       "      <td>16.78</td>\n",
       "      <td>115.52</td>\n",
       "      <td>C</td>\n",
       "      <td>C5</td>\n",
       "      <td>5.899771</td>\n",
       "      <td>RENT</td>\n",
       "      <td>22500.0</td>\n",
       "      <td>Verified</td>\n",
       "      <td>...</td>\n",
       "      <td>2013</td>\n",
       "      <td>0</td>\n",
       "      <td>0</td>\n",
       "      <td>0</td>\n",
       "      <td>0</td>\n",
       "      <td>1</td>\n",
       "      <td>0</td>\n",
       "      <td>0</td>\n",
       "      <td>0</td>\n",
       "      <td>0</td>\n",
       "    </tr>\n",
       "    <tr>\n",
       "      <th>41</th>\n",
       "      <td>28000.0</td>\n",
       "      <td>1</td>\n",
       "      <td>19.91</td>\n",
       "      <td>312.04</td>\n",
       "      <td>E</td>\n",
       "      <td>E4</td>\n",
       "      <td>10.000000</td>\n",
       "      <td>RENT</td>\n",
       "      <td>52000.0</td>\n",
       "      <td>Verified</td>\n",
       "      <td>...</td>\n",
       "      <td>2011</td>\n",
       "      <td>0</td>\n",
       "      <td>0</td>\n",
       "      <td>1</td>\n",
       "      <td>0</td>\n",
       "      <td>0</td>\n",
       "      <td>0</td>\n",
       "      <td>0</td>\n",
       "      <td>0</td>\n",
       "      <td>0</td>\n",
       "    </tr>\n",
       "  </tbody>\n",
       "</table>\n",
       "<p>5 rows × 33 columns</p>\n",
       "</div>"
      ],
      "text/plain": [
       "    loan_amnt  term  int_rate  installment grade sub_grade  emp_length  \\\n",
       "4     24375.0     1     17.27       609.33     C        C5    9.000000   \n",
       "25     6000.0     0     11.36       197.47     B        B5    2.000000   \n",
       "26     8400.0     0     13.35       284.45     C        C2    6.000000   \n",
       "36     3250.0     0     16.78       115.52     C        C5    5.899771   \n",
       "41    28000.0     1     19.91       312.04     E        E4   10.000000   \n",
       "\n",
       "   home_ownership  annual_inc verification_status  ...  issue_year 05113  \\\n",
       "4        MORTGAGE     55000.0            Verified  ...        2013     0   \n",
       "25           RENT     46680.0        Not Verified  ...        2010     0   \n",
       "26           RENT     35000.0     Source Verified  ...        2014     0   \n",
       "36           RENT     22500.0            Verified  ...        2013     0   \n",
       "41           RENT     52000.0            Verified  ...        2011     0   \n",
       "\n",
       "    11650  22690  29597  30723  48052  70466 86630 93700  \n",
       "4       1      0      0      0      0      0     0     0  \n",
       "25      0      0      0      1      0      0     0     0  \n",
       "26      0      0      0      0      1      0     0     0  \n",
       "36      0      0      0      1      0      0     0     0  \n",
       "41      0      1      0      0      0      0     0     0  \n",
       "\n",
       "[5 rows x 33 columns]"
      ]
     },
     "execution_count": 48,
     "metadata": {},
     "output_type": "execute_result"
    }
   ],
   "source": [
    "df.head()"
   ]
  },
  {
   "cell_type": "code",
   "execution_count": 49,
   "id": "6f2297c9",
   "metadata": {
    "scrolled": true
   },
   "outputs": [
    {
     "name": "stdout",
     "output_type": "stream",
     "text": [
      "<class 'pandas.core.frame.DataFrame'>\n",
      "Int64Index: 153874 entries, 4 to 48838\n",
      "Data columns (total 33 columns):\n",
      " #   Column                Non-Null Count   Dtype  \n",
      "---  ------                --------------   -----  \n",
      " 0   loan_amnt             153874 non-null  float64\n",
      " 1   term                  153874 non-null  int64  \n",
      " 2   int_rate              153874 non-null  float64\n",
      " 3   installment           153874 non-null  float64\n",
      " 4   grade                 153874 non-null  object \n",
      " 5   sub_grade             153874 non-null  object \n",
      " 6   emp_length            153874 non-null  float64\n",
      " 7   home_ownership        153874 non-null  object \n",
      " 8   annual_inc            153874 non-null  float64\n",
      " 9   verification_status   153874 non-null  object \n",
      " 10  loan_status           153874 non-null  int64  \n",
      " 11  purpose               153874 non-null  object \n",
      " 12  dti                   153874 non-null  float64\n",
      " 13  open_acc              153874 non-null  float64\n",
      " 14  pub_rec               153874 non-null  float64\n",
      " 15  revol_bal             153874 non-null  float64\n",
      " 16  revol_util            153874 non-null  float64\n",
      " 17  total_acc             153874 non-null  float64\n",
      " 18  initial_list_status   153874 non-null  object \n",
      " 19  application_type      153874 non-null  object \n",
      " 20  mort_acc              140583 non-null  float64\n",
      " 21  pub_rec_bankruptcies  153874 non-null  float64\n",
      " 22  earliest_cr_year      153874 non-null  int64  \n",
      " 23  issue_year            153874 non-null  int64  \n",
      " 24  05113                 153874 non-null  uint8  \n",
      " 25  11650                 153874 non-null  uint8  \n",
      " 26  22690                 153874 non-null  uint8  \n",
      " 27  29597                 153874 non-null  uint8  \n",
      " 28  30723                 153874 non-null  uint8  \n",
      " 29  48052                 153874 non-null  uint8  \n",
      " 30  70466                 153874 non-null  uint8  \n",
      " 31  86630                 153874 non-null  uint8  \n",
      " 32  93700                 153874 non-null  uint8  \n",
      "dtypes: float64(13), int64(4), object(7), uint8(9)\n",
      "memory usage: 30.7+ MB\n"
     ]
    }
   ],
   "source": [
    "df.info()"
   ]
  },
  {
   "cell_type": "markdown",
   "id": "fd561209",
   "metadata": {},
   "source": [
    "#### Getting dummies for 'term','sub_grade', 'home_ownership', 'verification_status', 'purpose', 'application_type','initial_list_status'\n"
   ]
  },
  {
   "cell_type": "code",
   "execution_count": 50,
   "id": "6e471e5f",
   "metadata": {},
   "outputs": [],
   "source": [
    "df = df.drop('grade', axis = 1)"
   ]
  },
  {
   "cell_type": "code",
   "execution_count": 51,
   "id": "6204ad79",
   "metadata": {
    "scrolled": true
   },
   "outputs": [
    {
     "data": {
      "text/plain": [
       "[array(['MORTGAGE', 'RENT', 'OWN', 'OTHER', 'NONE'], dtype=object),\n",
       " array(['Verified', 'Not Verified', 'Source Verified'], dtype=object),\n",
       " array(['credit_card', 'medical', 'debt_consolidation', 'wedding',\n",
       "        'moving', 'other', 'home_improvement', 'major_purchase', 'car',\n",
       "        'small_business', 'house', 'vacation', 'renewable_energy',\n",
       "        'educational'], dtype=object),\n",
       " array(['INDIVIDUAL', 'DIRECT_PAY', 'JOINT'], dtype=object),\n",
       " array(['f', 'w'], dtype=object)]"
      ]
     },
     "execution_count": 51,
     "metadata": {},
     "output_type": "execute_result"
    }
   ],
   "source": [
    "[df.home_ownership.unique(),df.verification_status.unique(),\n",
    " df.purpose.unique(),df.application_type.unique(), df.initial_list_status.unique()]"
   ]
  },
  {
   "cell_type": "code",
   "execution_count": 52,
   "id": "b6a08254",
   "metadata": {
    "scrolled": true
   },
   "outputs": [
    {
     "data": {
      "text/plain": [
       "MORTGAGE    72947\n",
       "RENT        65967\n",
       "OWN         14913\n",
       "OTHER          36\n",
       "NONE           11\n",
       "Name: home_ownership, dtype: int64"
      ]
     },
     "execution_count": 52,
     "metadata": {},
     "output_type": "execute_result"
    }
   ],
   "source": [
    "df.home_ownership.value_counts()"
   ]
  },
  {
   "cell_type": "code",
   "execution_count": 53,
   "id": "95a80848",
   "metadata": {},
   "outputs": [],
   "source": [
    "df['home_ownership']=df['home_ownership'].replace(['NONE'], 'OTHER')"
   ]
  },
  {
   "cell_type": "code",
   "execution_count": 54,
   "id": "29180789",
   "metadata": {},
   "outputs": [],
   "source": [
    "dummies = pd.get_dummies(df[['sub_grade', 'home_ownership', 'verification_status', 'purpose', 'application_type', 'initial_list_status']],drop_first=True)\n",
    "df = df.drop(['sub_grade', 'home_ownership', 'verification_status', 'purpose', 'application_type', 'initial_list_status'],axis=1)\n",
    "df = pd.concat([df,dummies],axis=1)"
   ]
  },
  {
   "cell_type": "code",
   "execution_count": 55,
   "id": "d0be2b28",
   "metadata": {},
   "outputs": [
    {
     "data": {
      "text/plain": [
       "(153874, 81)"
      ]
     },
     "execution_count": 55,
     "metadata": {},
     "output_type": "execute_result"
    }
   ],
   "source": [
    "df.shape"
   ]
  },
  {
   "cell_type": "markdown",
   "id": "f645bd9d",
   "metadata": {},
   "source": [
    "### Using Random Forest Regressor to predict the nan values for mort_acc"
   ]
  },
  {
   "cell_type": "code",
   "execution_count": 56,
   "id": "611a8beb",
   "metadata": {},
   "outputs": [
    {
     "name": "stdout",
     "output_type": "stream",
     "text": [
      "Number of mortgage accounts.\n"
     ]
    }
   ],
   "source": [
    "feat_info('mort_acc')"
   ]
  },
  {
   "cell_type": "code",
   "execution_count": 57,
   "id": "2639120e",
   "metadata": {},
   "outputs": [],
   "source": [
    "rfr = RandomForestRegressor(n_estimators= 30)"
   ]
  },
  {
   "cell_type": "markdown",
   "id": "06739ed0",
   "metadata": {},
   "source": [
    "most correlated features to mort_acc are ['total_acc', 'open_acc', 'dti', 'annual_income', 'installment', 'emp_length', 'loan_amnt']"
   ]
  },
  {
   "cell_type": "code",
   "execution_count": 58,
   "id": "537b7d17",
   "metadata": {},
   "outputs": [
    {
     "name": "stderr",
     "output_type": "stream",
     "text": [
      "/opt/anaconda3/lib/python3.8/site-packages/pandas/core/generic.py:5516: SettingWithCopyWarning: \n",
      "A value is trying to be set on a copy of a slice from a DataFrame.\n",
      "Try using .loc[row_indexer,col_indexer] = value instead\n",
      "\n",
      "See the caveats in the documentation: https://pandas.pydata.org/pandas-docs/stable/user_guide/indexing.html#returning-a-view-versus-a-copy\n",
      "  self[name] = value\n"
     ]
    }
   ],
   "source": [
    "train_mort = df.loc[(df.mort_acc.notnull())] # extracting rows that has mort_acc as not null\n",
    "test_mort = df.loc[(df.mort_acc.isnull())]  # all nan mort_acc values\n",
    "\n",
    "y = train_mort.values[:, 13] #selecting the mort_acc column\n",
    "X = train_mort.values[:, [0,3,4,5,7,8,12]] #selecting the features\n",
    "\n",
    "rfr.fit(X, y)\n",
    "\n",
    "predicted_mort = rfr.predict(test_mort.values[:, [0,3,4,5,7,8,12]]) # predicting the nan mort_acc values\n",
    "test_mort.mort_acc = predicted_mort\n"
   ]
  },
  {
   "cell_type": "markdown",
   "id": "561ae076",
   "metadata": {},
   "source": [
    "#### Ignoring the warning as we actually want to set a copy of the dataframe"
   ]
  },
  {
   "cell_type": "code",
   "execution_count": 59,
   "id": "2bb0cba3",
   "metadata": {},
   "outputs": [],
   "source": [
    "df.mort_acc.fillna(test_mort.mort_acc, inplace= True)"
   ]
  },
  {
   "cell_type": "code",
   "execution_count": 60,
   "id": "bb2a1f94",
   "metadata": {
    "scrolled": true
   },
   "outputs": [
    {
     "data": {
      "text/plain": [
       "0"
      ]
     },
     "execution_count": 60,
     "metadata": {},
     "output_type": "execute_result"
    }
   ],
   "source": [
    "df.isna().sum().sum()"
   ]
  },
  {
   "cell_type": "markdown",
   "id": "ad4dfb75",
   "metadata": {},
   "source": [
    "### Determining the features and the labels"
   ]
  },
  {
   "cell_type": "code",
   "execution_count": 61,
   "id": "e3f96186",
   "metadata": {},
   "outputs": [],
   "source": [
    "X = df.drop('loan_status',axis=1).values\n",
    "y = df['loan_status'].values"
   ]
  },
  {
   "cell_type": "markdown",
   "id": "352389e9",
   "metadata": {},
   "source": [
    "### Splitting our data in 0.8, 0.2 split as 30000 test values should be enough"
   ]
  },
  {
   "cell_type": "code",
   "execution_count": 62,
   "id": "9f606aab",
   "metadata": {},
   "outputs": [],
   "source": [
    "X_train, X_test, y_train, y_test = train_test_split(X, y, test_size=0.20, random_state=42)"
   ]
  },
  {
   "cell_type": "markdown",
   "id": "03a34cc9",
   "metadata": {},
   "source": [
    "### Scaling the features using standard scaling"
   ]
  },
  {
   "cell_type": "code",
   "execution_count": 63,
   "id": "32385528",
   "metadata": {},
   "outputs": [],
   "source": [
    "scaler = StandardScaler()\n",
    "X_train = scaler.fit_transform(X_train)\n",
    "X_test = scaler.transform(X_test)"
   ]
  },
  {
   "cell_type": "code",
   "execution_count": 64,
   "id": "d8bd5ef5",
   "metadata": {},
   "outputs": [
    {
     "data": {
      "text/plain": [
       "(153874, 81)"
      ]
     },
     "execution_count": 64,
     "metadata": {},
     "output_type": "execute_result"
    }
   ],
   "source": [
    "df.shape"
   ]
  },
  {
   "cell_type": "markdown",
   "id": "4d852a3c",
   "metadata": {},
   "source": [
    "## Creating the ANN model"
   ]
  },
  {
   "cell_type": "code",
   "execution_count": 65,
   "id": "255e46d6",
   "metadata": {
    "scrolled": true
   },
   "outputs": [
    {
     "name": "stderr",
     "output_type": "stream",
     "text": [
      "2022-01-02 12:34:46.318282: I tensorflow/core/platform/cpu_feature_guard.cc:151] This TensorFlow binary is optimized with oneAPI Deep Neural Network Library (oneDNN) to use the following CPU instructions in performance-critical operations:  AVX2 FMA\n",
      "To enable them in other operations, rebuild TensorFlow with the appropriate compiler flags.\n"
     ]
    }
   ],
   "source": [
    "model = Sequential()\n",
    "\n",
    "model.add(Dense(81,  activation='relu'))\n",
    "model.add(Dropout(0.2))\n",
    "model.add(Dense(41,  activation='relu'))\n",
    "model.add(Dropout(0.2))\n",
    "model.add(Dense(21,  activation='relu'))\n",
    "model.add(Dropout(0.2))\n",
    "model.add(Dense(units=1,activation='sigmoid'))\n",
    "model.compile(loss='binary_crossentropy', optimizer='adam')"
   ]
  },
  {
   "cell_type": "code",
   "execution_count": 66,
   "id": "d1402a26",
   "metadata": {},
   "outputs": [
    {
     "name": "stdout",
     "output_type": "stream",
     "text": [
      "Epoch 1/25\n",
      "481/481 [==============================] - 3s 4ms/step - loss: 0.4527 - val_loss: 0.3679\n",
      "Epoch 2/25\n",
      "481/481 [==============================] - 2s 4ms/step - loss: 0.3727 - val_loss: 0.3581\n",
      "Epoch 3/25\n",
      "481/481 [==============================] - 2s 4ms/step - loss: 0.3633 - val_loss: 0.3538\n",
      "Epoch 4/25\n",
      "481/481 [==============================] - 2s 3ms/step - loss: 0.3593 - val_loss: 0.3527\n",
      "Epoch 5/25\n",
      "481/481 [==============================] - 2s 3ms/step - loss: 0.3572 - val_loss: 0.3539\n",
      "Epoch 6/25\n",
      "481/481 [==============================] - 2s 3ms/step - loss: 0.3550 - val_loss: 0.3523\n",
      "Epoch 7/25\n",
      "481/481 [==============================] - 2s 3ms/step - loss: 0.3541 - val_loss: 0.3525\n",
      "Epoch 8/25\n",
      "481/481 [==============================] - 2s 4ms/step - loss: 0.3531 - val_loss: 0.3508\n",
      "Epoch 9/25\n",
      "481/481 [==============================] - 2s 4ms/step - loss: 0.3525 - val_loss: 0.3511\n",
      "Epoch 10/25\n",
      "481/481 [==============================] - 2s 3ms/step - loss: 0.3511 - val_loss: 0.3505\n",
      "Epoch 11/25\n",
      "481/481 [==============================] - 2s 3ms/step - loss: 0.3504 - val_loss: 0.3503\n",
      "Epoch 12/25\n",
      "481/481 [==============================] - 2s 3ms/step - loss: 0.3497 - val_loss: 0.3503\n",
      "Epoch 13/25\n",
      "481/481 [==============================] - 2s 3ms/step - loss: 0.3487 - val_loss: 0.3501\n",
      "Epoch 14/25\n",
      "481/481 [==============================] - 2s 5ms/step - loss: 0.3490 - val_loss: 0.3496\n",
      "Epoch 15/25\n",
      "481/481 [==============================] - 2s 5ms/step - loss: 0.3487 - val_loss: 0.3499\n",
      "Epoch 16/25\n",
      "481/481 [==============================] - 2s 4ms/step - loss: 0.3475 - val_loss: 0.3508\n",
      "Epoch 17/25\n",
      "481/481 [==============================] - 2s 3ms/step - loss: 0.3471 - val_loss: 0.3501\n",
      "Epoch 18/25\n",
      "481/481 [==============================] - 2s 3ms/step - loss: 0.3463 - val_loss: 0.3502\n",
      "Epoch 19/25\n",
      "481/481 [==============================] - 1s 3ms/step - loss: 0.3456 - val_loss: 0.3496\n",
      "Epoch 20/25\n",
      "481/481 [==============================] - 2s 4ms/step - loss: 0.3455 - val_loss: 0.3494\n",
      "Epoch 21/25\n",
      "481/481 [==============================] - 2s 4ms/step - loss: 0.3451 - val_loss: 0.3498\n",
      "Epoch 22/25\n",
      "481/481 [==============================] - 2s 4ms/step - loss: 0.3443 - val_loss: 0.3514\n",
      "Epoch 23/25\n",
      "481/481 [==============================] - 2s 3ms/step - loss: 0.3440 - val_loss: 0.3508\n",
      "Epoch 24/25\n",
      "481/481 [==============================] - 2s 3ms/step - loss: 0.3438 - val_loss: 0.3500\n",
      "Epoch 25/25\n",
      "481/481 [==============================] - 2s 3ms/step - loss: 0.3438 - val_loss: 0.3496\n"
     ]
    },
    {
     "data": {
      "text/plain": [
       "<keras.callbacks.History at 0x7fb4ec4d86d0>"
      ]
     },
     "execution_count": 66,
     "metadata": {},
     "output_type": "execute_result"
    }
   ],
   "source": [
    "model.fit(x= X_train, y= y_train, epochs = 25,batch_size = 256, validation_data=(X_test, y_test))"
   ]
  },
  {
   "cell_type": "markdown",
   "id": "5ed258ac",
   "metadata": {},
   "source": [
    "#### As the neural net didn't need a lot of time I didn't use callbacks and early stopping and just did trial and error to see when converging would occur "
   ]
  },
  {
   "cell_type": "markdown",
   "id": "63be32ee",
   "metadata": {},
   "source": [
    "### Saving our model"
   ]
  },
  {
   "cell_type": "code",
   "execution_count": 67,
   "id": "6c307ae3",
   "metadata": {},
   "outputs": [],
   "source": [
    "model.save('ann_model.h5') "
   ]
  },
  {
   "cell_type": "markdown",
   "id": "1519a321",
   "metadata": {},
   "source": [
    "### checking the losses for every epoch"
   ]
  },
  {
   "cell_type": "code",
   "execution_count": 68,
   "id": "678fa07e",
   "metadata": {},
   "outputs": [
    {
     "data": {
      "text/plain": [
       "<AxesSubplot:>"
      ]
     },
     "execution_count": 68,
     "metadata": {},
     "output_type": "execute_result"
    },
    {
     "data": {
      "image/png": "[encoded data removed]",
      "text/plain": [
       "<Figure size 432x288 with 1 Axes>"
      ]
     },
     "metadata": {
      "needs_background": "light"
     },
     "output_type": "display_data"
    }
   ],
   "source": [
    "losses = pd.DataFrame(model.history.history)\n",
    "losses[['loss','val_loss']].plot()"
   ]
  },
  {
   "cell_type": "code",
   "execution_count": 69,
   "id": "3b6cf29a",
   "metadata": {},
   "outputs": [],
   "source": [
    "predictions = (model.predict(X_test) > 0.5).astype(\"int32\")"
   ]
  },
  {
   "cell_type": "code",
   "execution_count": 70,
   "id": "03a46a28",
   "metadata": {},
   "outputs": [
    {
     "name": "stdout",
     "output_type": "stream",
     "text": [
      "              precision    recall  f1-score   support\n",
      "\n",
      "           0       0.80      0.81      0.81     15293\n",
      "           1       0.81      0.80      0.81     15482\n",
      "\n",
      "    accuracy                           0.81     30775\n",
      "   macro avg       0.81      0.81      0.81     30775\n",
      "weighted avg       0.81      0.81      0.81     30775\n",
      "\n"
     ]
    }
   ],
   "source": [
    "print(classification_report(y_test,predictions))"
   ]
  },
  {
   "cell_type": "markdown",
   "id": "9ef9b3ff",
   "metadata": {},
   "source": [
    "## Conclusion:\n",
    "### We get a well rounded classification report, and we get a recall score of 0.81 and an accuracy score of 0.81, we can further tune our model and get better recall score for charging off for example but that may affect our overall accuracy and that depends on how we want our model to perform."
   ]
  }
 ],
 "metadata": {
  "kernelspec": {
   "display_name": "Python 3 (ipykernel)",
   "language": "python",
   "name": "python3"
  },
  "language_info": {
   "codemirror_mode": {
    "name": "ipython",
    "version": 3
   },
   "file_extension": ".py",
   "mimetype": "text/x-python",
   "name": "python",
   "nbconvert_exporter": "python",
   "pygments_lexer": "ipython3",
   "version": "3.8.8"
  }
 },
 "nbformat": 4,
 "nbformat_minor": 5
}
